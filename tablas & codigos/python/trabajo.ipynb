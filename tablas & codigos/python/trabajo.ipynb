{
 "cells": [
  {
   "cell_type": "code",
   "execution_count": 6,
   "id": "d1d6e012",
   "metadata": {},
   "outputs": [],
   "source": [
    "# Librerías principales\n",
    "import pandas as pd\n",
    "import numpy as np\n",
    "import os\n"
   ]
  },
  {
   "cell_type": "code",
   "execution_count": 3,
   "id": "6cc3351f",
   "metadata": {},
   "outputs": [],
   "source": [
    "# Definir la ruta al archivo\n",
    "ruta_dta = \"C:/SEM 8/Bloque dos & materias final/Proyecto BeWay/tablas & codigos/dtas/BASE_ENSAFI.dta\"\n",
    "\n",
    "# Leer el archivo .dta\n",
    "data = pd.read_stata(ruta_dta)\n",
    "\n",
    "# Ver las primeras filas para asegurarnos\n",
    "#print(data.head())\n"
   ]
  },
  {
   "cell_type": "code",
   "execution_count": 7,
   "id": "5fd3f791",
   "metadata": {},
   "outputs": [
    {
     "name": "stdout",
     "output_type": "stream",
     "text": [
      "Archivo 'vars_list.txt' creado exitosamente con 336 variables.\n"
     ]
    }
   ],
   "source": [
    "# Definir ruta de salida\n",
    "output_path = os.path.join('..', 'outputspy', 'vars_list.txt')\n",
    "\n",
    "# Extraer los nombres de las variables\n",
    "variable_names = data.columns.tolist()\n",
    "\n",
    "# Escribir (sobrescribir) el archivo txt\n",
    "with open(output_path, 'w', encoding='utf-8') as f:\n",
    "    for var in variable_names:\n",
    "        f.write(f\"{var}\\n\")\n",
    "\n",
    "print(f\"Archivo 'vars_list.txt' creado exitosamente con {len(variable_names)} variables.\")\n"
   ]
  },
  {
   "cell_type": "code",
   "execution_count": 11,
   "id": "77a16804",
   "metadata": {},
   "outputs": [
    {
     "name": "stderr",
     "output_type": "stream",
     "text": [
      "C:\\Users\\andre\\AppData\\Local\\Temp\\ipykernel_9312\\2404438184.py:5: FutureWarning: DataFrame.applymap has been deprecated. Use DataFrame.map instead.\n",
      "  data_cleaned = data_cleaned.applymap(lambda x: pd.to_numeric(str(x).strip(), errors='coerce'))\n"
     ]
    },
    {
     "name": "stdout",
     "output_type": "stream",
     "text": [
      "Archivo 'vars_list.txt' actualizado con 336 variables.\n",
      "  variable_name         status                                    valores  \\\n",
      "0      llaveviv  no_modificada  min=10001601, max=326080020, únicos=20201   \n",
      "1          p1_1  no_modificada                     min=1, max=9, únicos=9   \n",
      "2          p1_2  no_modificada                   min=1, max=18, únicos=16   \n",
      "3          p1_3  no_modificada                     min=0, max=8, únicos=9   \n",
      "4       p1_4_01     modificada                                     (0, 1)   \n",
      "\n",
      "   n_nas  \n",
      "0      0  \n",
      "1      0  \n",
      "2      0  \n",
      "3      0  \n",
      "4      0  \n"
     ]
    }
   ],
   "source": [
    "\n",
    "\n",
    "# Paso 1: Crear copia del dataframe original\n",
    "data_cleaned = data.copy()\n",
    "\n",
    "# Paso 2: Limpiar y convertir todo a numérico\n",
    "data_cleaned = data_cleaned.applymap(lambda x: pd.to_numeric(str(x).strip(), errors='coerce'))\n",
    "\n",
    "# Paso 3: Detectar columnas con valores exclusivamente 1 o 2\n",
    "cols_si_no = []\n",
    "for col in data_cleaned.columns:\n",
    "    unique_vals = data_cleaned[col].dropna().unique()\n",
    "    if set(unique_vals).issubset({1, 2}):\n",
    "        cols_si_no.append(col)\n",
    "\n",
    "# Paso 4: Transformar 2 → 0\n",
    "data_cleaned[cols_si_no] = data_cleaned[cols_si_no].replace({2: 0})\n",
    "\n",
    "# Paso 5: Convertir a int si no hay NaN\n",
    "for col in cols_si_no:\n",
    "    if data_cleaned[col].isna().sum() == 0:\n",
    "        data_cleaned[col] = data_cleaned[col].astype(int)\n",
    "\n",
    "# Paso 6: Crear tabla compacta\n",
    "records = []\n",
    "for col in data_cleaned.columns:\n",
    "    status = 'modificada' if col in cols_si_no else 'no_modificada'\n",
    "    valores_unicos = data_cleaned[col].dropna().unique()\n",
    "    n_nas = data_cleaned[col].isna().sum()\n",
    "    \n",
    "    # Formateo compacto:\n",
    "    if len(valores_unicos) <= 5:\n",
    "        valores_str = '(' + ', '.join(map(str, sorted(valores_unicos))) + ')'\n",
    "    else:\n",
    "        valores_str = f\"min={np.min(valores_unicos)}, max={np.max(valores_unicos)}, únicos={len(valores_unicos)}\"\n",
    "    \n",
    "    records.append({\n",
    "        'variable_name': col,\n",
    "        'status': status,\n",
    "        'valores': valores_str,\n",
    "        'n_nas': n_nas\n",
    "    })\n",
    "\n",
    "status_df = pd.DataFrame.from_records(records)\n",
    "\n",
    "# Paso 7: Guardar el archivo\n",
    "output_path = os.path.join('..', 'outputspy', 'vars_list.txt')\n",
    "status_df.to_csv(output_path, sep='\\t', index=False)\n",
    "\n",
    "print(f\"Archivo 'vars_list.txt' actualizado con {len(status_df)} variables.\")\n",
    "print(status_df.head())\n",
    "\n"
   ]
  },
  {
   "cell_type": "code",
   "execution_count": 12,
   "id": "526c05b1",
   "metadata": {},
   "outputs": [
    {
     "name": "stdout",
     "output_type": "stream",
     "text": [
      "Archivo 'monitoreo.txt' creado con 125 variables modificadas.\n",
      "  variable_name      status valores  n_nas\n",
      "4       p1_4_01  modificada  (0, 1)      0\n",
      "5       p1_4_02  modificada  (0, 1)      0\n",
      "6       p1_4_03  modificada  (0, 1)      0\n",
      "7       p1_4_04  modificada  (0, 1)      0\n",
      "8       p1_4_05  modificada  (0, 1)      0\n"
     ]
    }
   ],
   "source": [
    "#MONITOREO DE DF\n",
    "\n",
    "\n",
    "# Paso 1: Definir la ruta de entrada (vars_list.txt)\n",
    "input_path = os.path.join('..', 'outputspy', 'vars_list.txt')\n",
    "\n",
    "# Leer el archivo\n",
    "vars_df = pd.read_csv(input_path, sep='\\t')\n",
    "\n",
    "# Paso 2: Filtrar variables que tienen status == 'modificada'\n",
    "modificadas_df = vars_df[vars_df['status'] == 'modificada']\n",
    "\n",
    "# Paso 3: Definir la ruta de salida (monitoreo.txt)\n",
    "output_path = os.path.join('..', 'outputspy', 'monitoreo.txt')\n",
    "\n",
    "# Guardar solo las modificadas\n",
    "modificadas_df.to_csv(output_path, sep='\\t', index=False)\n",
    "\n",
    "print(f\"Archivo 'monitoreo.txt' creado con {len(modificadas_df)} variables modificadas.\")\n",
    "print(modificadas_df.head())\n"
   ]
  }
 ],
 "metadata": {
  "kernelspec": {
   "display_name": "sobredeuda",
   "language": "python",
   "name": "python3"
  },
  "language_info": {
   "codemirror_mode": {
    "name": "ipython",
    "version": 3
   },
   "file_extension": ".py",
   "mimetype": "text/x-python",
   "name": "python",
   "nbconvert_exporter": "python",
   "pygments_lexer": "ipython3",
   "version": "3.12.6"
  }
 },
 "nbformat": 4,
 "nbformat_minor": 5
}
