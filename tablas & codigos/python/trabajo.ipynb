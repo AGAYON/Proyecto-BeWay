{
 "cells": [
  {
   "cell_type": "code",
   "execution_count": null,
   "id": "d1d6e012",
   "metadata": {},
   "outputs": [],
   "source": [
    "# Librerías principales\n",
    "import pandas as pd\n",
    "import numpy as np\n",
    "import os\n",
    "\n"
   ]
  },
  {
   "cell_type": "code",
   "execution_count": 25,
   "id": "6cc3351f",
   "metadata": {},
   "outputs": [],
   "source": [
    "# Definir la ruta al archivo\n",
    "ruta_dta = \"C:/SEM 8/Bloque dos & materias final/Proyecto BeWay/tablas & codigos/dtas/BASE_ENSAFI.dta\"\n",
    "\n",
    "# Leer el archivo .dta\n",
    "data = pd.read_stata(ruta_dta)\n",
    "\n",
    "# Ver las primeras filas para asegurarnos\n",
    "#print(data.head())\n"
   ]
  },
  {
   "cell_type": "code",
   "execution_count": 26,
   "id": "5fd3f791",
   "metadata": {},
   "outputs": [],
   "source": [
    "# Paso 1: Definir las listas de variables a conservar y eliminar\n",
    "\n",
    "#conservmos todas las variables que empiezan por \"p\" y las que no empiezan por \"p\" pero están en la lista de conservación\n",
    "\n",
    "# Variables x ELIMINAR (A)\n",
    "variables_a_eliminar = [\n",
    "    'p3_6_1', 'p3_6_2', 'p3_6_3', 'p4_2', 'p4_3', 'paren', 'p5_4a', 'p5_6', \n",
    "    'p5_19', 'p1_8_1', 'p5_19a', 'p5_21', 'p6_12', 'p6_13'\n",
    "]\n",
    "\n",
    "# Variables x CONSERVAR aunque no empiecen con \"p\" (B)\n",
    "variables_no_p_a_conservar = [\n",
    "    'ent', 'tloc', 'region', 'sexo', 'edad_v', 'niv',\n",
    "    'filtro_s4_1', 'filtro_s5_3', 'filtro_s5_2', 'filtro_s5_3_1', 'filtro_s5_4',\n",
    "    'filtro_s6_1', 'filtro_s6_2', 'ingreso_mensual', 'gasto_mensual', 'pob_objetivo',\n",
    "    'niv_bienes', 'niv_estres', 'conf_finan', 'gra_control', 'orien_fut', 'impulsivid',\n",
    "    'orien_acci', 'optimismo', 'gtos_ahorr', 'fac_ele', 'depen_sum', 'fac_ele'  # fac_ele repetida, no pasa nada\n",
    "]\n",
    "\n",
    "# Paso 2: Crear el nuevo DataFrame\n",
    "\n",
    "# 1. Quedarse sólo con variables que empiecen con 'p' o estén en la lista de conservación\n",
    "variables_a_conservar = [\n",
    "    col for col in data.columns \n",
    "    if col.startswith('p') or col in variables_no_p_a_conservar\n",
    "]\n",
    "\n",
    "# 2. De esas variables, eliminar las que estén en la lista de eliminación\n",
    "variables_finales = [\n",
    "    col for col in variables_a_conservar \n",
    "    if col not in variables_a_eliminar\n",
    "]\n",
    "\n",
    "# 3. Crear la copia limpia\n",
    "data_copy_clean = data[variables_finales].copy()\n"
   ]
  },
  {
   "cell_type": "code",
   "execution_count": 27,
   "id": "1cca6f0d",
   "metadata": {},
   "outputs": [
    {
     "name": "stdout",
     "output_type": "stream",
     "text": [
      "El DataFrame tiene 300 variables.\n"
     ]
    }
   ],
   "source": [
    "# Contar cuántas variables tiene el DataFrame\n",
    "num_variables = data_copy_clean.shape[1]\n",
    "print(f\"El DataFrame tiene {num_variables} variables.\")\n",
    "\n",
    "# Ruta del archivo de salida (asumiendo estructura de carpetas mencionada)\n",
    "ruta_salida = \"../outputspy/vars_list.txt\"\n",
    "\n",
    "# Guardar nombres de columnas en el archivo\n",
    "with open(ruta_salida, \"w\", encoding=\"utf-8\") as f:\n",
    "    for col in data_copy_clean.columns:\n",
    "        f.write(f\"{col}\\n\")\n"
   ]
  }
 ],
 "metadata": {
  "kernelspec": {
   "display_name": "sobredeuda",
   "language": "python",
   "name": "python3"
  },
  "language_info": {
   "codemirror_mode": {
    "name": "ipython",
    "version": 3
   },
   "file_extension": ".py",
   "mimetype": "text/x-python",
   "name": "python",
   "nbconvert_exporter": "python",
   "pygments_lexer": "ipython3",
   "version": "3.12.6"
  }
 },
 "nbformat": 4,
 "nbformat_minor": 5
}
