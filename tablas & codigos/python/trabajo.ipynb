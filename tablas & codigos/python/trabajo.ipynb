{
 "cells": [
  {
   "cell_type": "code",
   "execution_count": 6,
   "id": "d1d6e012",
   "metadata": {},
   "outputs": [],
   "source": [
    "# Librerías principales\n",
    "import pandas as pd\n",
    "import numpy as np\n",
    "import os\n"
   ]
  },
  {
   "cell_type": "code",
   "execution_count": 3,
   "id": "6cc3351f",
   "metadata": {},
   "outputs": [],
   "source": [
    "# Definir la ruta al archivo\n",
    "ruta_dta = \"C:/SEM 8/Bloque dos & materias final/Proyecto BeWay/tablas & codigos/dtas/BASE_ENSAFI.dta\"\n",
    "\n",
    "# Leer el archivo .dta\n",
    "data = pd.read_stata(ruta_dta)\n",
    "\n",
    "# Ver las primeras filas para asegurarnos\n",
    "#print(data.head())\n"
   ]
  },
  {
   "cell_type": "code",
   "execution_count": 7,
   "id": "5fd3f791",
   "metadata": {},
   "outputs": [
    {
     "name": "stdout",
     "output_type": "stream",
     "text": [
      "Archivo 'vars_list.txt' creado exitosamente con 336 variables.\n"
     ]
    }
   ],
   "source": [
    "# Definir ruta de salida\n",
    "output_path = os.path.join('..', 'outputspy', 'vars_list.txt')\n",
    "\n",
    "# Extraer los nombres de las variables\n",
    "variable_names = data.columns.tolist()\n",
    "\n",
    "# Escribir (sobrescribir) el archivo txt\n",
    "with open(output_path, 'w', encoding='utf-8') as f:\n",
    "    for var in variable_names:\n",
    "        f.write(f\"{var}\\n\")\n",
    "\n",
    "print(f\"Archivo 'vars_list.txt' creado exitosamente con {len(variable_names)} variables.\")\n"
   ]
  }
 ],
 "metadata": {
  "kernelspec": {
   "display_name": "sobredeuda",
   "language": "python",
   "name": "python3"
  },
  "language_info": {
   "codemirror_mode": {
    "name": "ipython",
    "version": 3
   },
   "file_extension": ".py",
   "mimetype": "text/x-python",
   "name": "python",
   "nbconvert_exporter": "python",
   "pygments_lexer": "ipython3",
   "version": "3.12.6"
  }
 },
 "nbformat": 4,
 "nbformat_minor": 5
}
